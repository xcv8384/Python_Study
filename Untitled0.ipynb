{
  "nbformat": 4,
  "nbformat_minor": 0,
  "metadata": {
    "colab": {
      "provenance": [],
      "authorship_tag": "ABX9TyMlr8kYEH0ysWFrRMcvq+uj",
      "include_colab_link": true
    },
    "kernelspec": {
      "name": "python3",
      "display_name": "Python 3"
    },
    "language_info": {
      "name": "python"
    }
  },
  "cells": [
    {
      "cell_type": "markdown",
      "metadata": {
        "id": "view-in-github",
        "colab_type": "text"
      },
      "source": [
        "<a href=\"https://colab.research.google.com/github/xcv8384/Python_Study/blob/main/Untitled0.ipynb\" target=\"_parent\"><img src=\"https://colab.research.google.com/assets/colab-badge.svg\" alt=\"Open In Colab\"/></a>"
      ]
    },
    {
      "cell_type": "code",
      "execution_count": 3,
      "metadata": {
        "id": "H87jvHuwowWe"
      },
      "outputs": [],
      "source": [
        "import tensorflow as tf\n",
        "import pandas as pd\n",
        "\n",
        "파일경로 = '/content/lemonade.csv'\n",
        "레모네이드 = pd.read_csv(파일경로)"
      ]
    },
    {
      "cell_type": "code",
      "source": [
        "print(레모네이드.shape)"
      ],
      "metadata": {
        "colab": {
          "base_uri": "https://localhost:8080/"
        },
        "id": "NE1--qJFrrLS",
        "outputId": "8d3d1d47-c5fd-4623-cfe2-7d16e7c47e9b"
      },
      "execution_count": 4,
      "outputs": [
        {
          "output_type": "stream",
          "name": "stdout",
          "text": [
            "(6, 2)\n"
          ]
        }
      ]
    },
    {
      "cell_type": "code",
      "source": [
        "print(레모네이드.columns)"
      ],
      "metadata": {
        "colab": {
          "base_uri": "https://localhost:8080/"
        },
        "id": "3DKD9JcVr0hW",
        "outputId": "ded6eed9-e177-4af6-997e-e5a6e0a4a8b4"
      },
      "execution_count": 5,
      "outputs": [
        {
          "output_type": "stream",
          "name": "stdout",
          "text": [
            "Index(['온도', '판매량'], dtype='object')\n"
          ]
        }
      ]
    },
    {
      "cell_type": "code",
      "source": [
        "독립 = 레모네이드[['온도']]\n",
        "종속 = 레모네이드[['판매량']]\n",
        "print(독립.shape, 종속.shape)"
      ],
      "metadata": {
        "colab": {
          "base_uri": "https://localhost:8080/"
        },
        "id": "lapfnEYAr_x0",
        "outputId": "423c6c74-0a60-4b63-b3e5-13010d1a0aff"
      },
      "execution_count": 6,
      "outputs": [
        {
          "output_type": "stream",
          "name": "stdout",
          "text": [
            "(6, 1) (6, 1)\n"
          ]
        }
      ]
    },
    {
      "cell_type": "code",
      "source": [
        "레모네이드.head"
      ],
      "metadata": {
        "colab": {
          "base_uri": "https://localhost:8080/"
        },
        "id": "jzVmC4-xsHtL",
        "outputId": "4b06ba4a-6713-4a08-d0d1-748ae5cf1932"
      },
      "execution_count": 7,
      "outputs": [
        {
          "output_type": "execute_result",
          "data": {
            "text/plain": [
              "<bound method NDFrame.head of    온도  판매량\n",
              "0  20   40\n",
              "1  21   42\n",
              "2  22   44\n",
              "3  23   46\n",
              "4  24   48\n",
              "5  25   50>"
            ]
          },
          "metadata": {},
          "execution_count": 7
        }
      ]
    },
    {
      "cell_type": "code",
      "source": [
        "X = tf.keras.layers.Input(shape=[1])\n",
        "Y = tf.keras.layers.Dense(1)(X)\n",
        "model = tf.keras.models.Model(X,Y)\n",
        "model.compile(loss='mse')"
      ],
      "metadata": {
        "id": "8E66ttbBsJ8L"
      },
      "execution_count": 11,
      "outputs": []
    },
    {
      "cell_type": "code",
      "source": [
        "model.fit(독립, 종속, epochs=100)"
      ],
      "metadata": {
        "colab": {
          "base_uri": "https://localhost:8080/"
        },
        "id": "Q_kDjvg4soeY",
        "outputId": "17ec627b-70b9-4db7-f676-530ffc214f73"
      },
      "execution_count": 22,
      "outputs": [
        {
          "output_type": "stream",
          "name": "stdout",
          "text": [
            "Epoch 1/100\n",
            "1/1 [==============================] - 0s 9ms/step - loss: 13.7523\n",
            "Epoch 2/100\n",
            "1/1 [==============================] - 0s 9ms/step - loss: 13.5875\n",
            "Epoch 3/100\n",
            "1/1 [==============================] - 0s 11ms/step - loss: 13.4236\n",
            "Epoch 4/100\n",
            "1/1 [==============================] - 0s 8ms/step - loss: 13.2609\n",
            "Epoch 5/100\n",
            "1/1 [==============================] - 0s 8ms/step - loss: 13.0992\n",
            "Epoch 6/100\n",
            "1/1 [==============================] - 0s 6ms/step - loss: 12.9385\n",
            "Epoch 7/100\n",
            "1/1 [==============================] - 0s 8ms/step - loss: 12.7789\n",
            "Epoch 8/100\n",
            "1/1 [==============================] - 0s 7ms/step - loss: 12.6203\n",
            "Epoch 9/100\n",
            "1/1 [==============================] - 0s 9ms/step - loss: 12.4628\n",
            "Epoch 10/100\n",
            "1/1 [==============================] - 0s 13ms/step - loss: 12.3062\n",
            "Epoch 11/100\n",
            "1/1 [==============================] - 0s 8ms/step - loss: 12.1508\n",
            "Epoch 12/100\n",
            "1/1 [==============================] - 0s 6ms/step - loss: 11.9964\n",
            "Epoch 13/100\n",
            "1/1 [==============================] - 0s 8ms/step - loss: 11.8430\n",
            "Epoch 14/100\n",
            "1/1 [==============================] - 0s 10ms/step - loss: 11.6907\n",
            "Epoch 15/100\n",
            "1/1 [==============================] - 0s 10ms/step - loss: 11.5395\n",
            "Epoch 16/100\n",
            "1/1 [==============================] - 0s 8ms/step - loss: 11.3892\n",
            "Epoch 17/100\n",
            "1/1 [==============================] - 0s 6ms/step - loss: 11.2400\n",
            "Epoch 18/100\n",
            "1/1 [==============================] - 0s 6ms/step - loss: 11.0919\n",
            "Epoch 19/100\n",
            "1/1 [==============================] - 0s 10ms/step - loss: 10.9447\n",
            "Epoch 20/100\n",
            "1/1 [==============================] - 0s 6ms/step - loss: 10.7987\n",
            "Epoch 21/100\n",
            "1/1 [==============================] - 0s 5ms/step - loss: 10.6536\n",
            "Epoch 22/100\n",
            "1/1 [==============================] - 0s 6ms/step - loss: 10.5096\n",
            "Epoch 23/100\n",
            "1/1 [==============================] - 0s 7ms/step - loss: 10.3667\n",
            "Epoch 24/100\n",
            "1/1 [==============================] - 0s 5ms/step - loss: 10.2248\n",
            "Epoch 25/100\n",
            "1/1 [==============================] - 0s 7ms/step - loss: 10.0839\n",
            "Epoch 26/100\n",
            "1/1 [==============================] - 0s 6ms/step - loss: 9.9440\n",
            "Epoch 27/100\n",
            "1/1 [==============================] - 0s 5ms/step - loss: 9.8052\n",
            "Epoch 28/100\n",
            "1/1 [==============================] - 0s 10ms/step - loss: 9.6675\n",
            "Epoch 29/100\n",
            "1/1 [==============================] - 0s 5ms/step - loss: 9.5308\n",
            "Epoch 30/100\n",
            "1/1 [==============================] - 0s 5ms/step - loss: 9.3950\n",
            "Epoch 31/100\n",
            "1/1 [==============================] - 0s 5ms/step - loss: 9.2604\n",
            "Epoch 32/100\n",
            "1/1 [==============================] - 0s 7ms/step - loss: 9.1267\n",
            "Epoch 33/100\n",
            "1/1 [==============================] - 0s 8ms/step - loss: 8.9942\n",
            "Epoch 34/100\n",
            "1/1 [==============================] - 0s 5ms/step - loss: 8.8626\n",
            "Epoch 35/100\n",
            "1/1 [==============================] - 0s 6ms/step - loss: 8.7321\n",
            "Epoch 36/100\n",
            "1/1 [==============================] - 0s 5ms/step - loss: 8.6026\n",
            "Epoch 37/100\n",
            "1/1 [==============================] - 0s 6ms/step - loss: 8.4741\n",
            "Epoch 38/100\n",
            "1/1 [==============================] - 0s 5ms/step - loss: 8.3467\n",
            "Epoch 39/100\n",
            "1/1 [==============================] - 0s 8ms/step - loss: 8.2203\n",
            "Epoch 40/100\n",
            "1/1 [==============================] - 0s 6ms/step - loss: 8.0949\n",
            "Epoch 41/100\n",
            "1/1 [==============================] - 0s 7ms/step - loss: 7.9705\n",
            "Epoch 42/100\n",
            "1/1 [==============================] - 0s 6ms/step - loss: 7.8472\n",
            "Epoch 43/100\n",
            "1/1 [==============================] - 0s 6ms/step - loss: 7.7249\n",
            "Epoch 44/100\n",
            "1/1 [==============================] - 0s 7ms/step - loss: 7.6036\n",
            "Epoch 45/100\n",
            "1/1 [==============================] - 0s 11ms/step - loss: 7.4834\n",
            "Epoch 46/100\n",
            "1/1 [==============================] - 0s 6ms/step - loss: 7.3642\n",
            "Epoch 47/100\n",
            "1/1 [==============================] - 0s 6ms/step - loss: 7.2460\n",
            "Epoch 48/100\n",
            "1/1 [==============================] - 0s 6ms/step - loss: 7.1288\n",
            "Epoch 49/100\n",
            "1/1 [==============================] - 0s 6ms/step - loss: 7.0127\n",
            "Epoch 50/100\n",
            "1/1 [==============================] - 0s 7ms/step - loss: 6.8976\n",
            "Epoch 51/100\n",
            "1/1 [==============================] - 0s 7ms/step - loss: 6.7835\n",
            "Epoch 52/100\n",
            "1/1 [==============================] - 0s 6ms/step - loss: 6.6704\n",
            "Epoch 53/100\n",
            "1/1 [==============================] - 0s 6ms/step - loss: 6.5584\n",
            "Epoch 54/100\n",
            "1/1 [==============================] - 0s 6ms/step - loss: 6.4473\n",
            "Epoch 55/100\n",
            "1/1 [==============================] - 0s 6ms/step - loss: 6.3373\n",
            "Epoch 56/100\n",
            "1/1 [==============================] - 0s 6ms/step - loss: 6.2283\n",
            "Epoch 57/100\n",
            "1/1 [==============================] - 0s 6ms/step - loss: 6.1204\n",
            "Epoch 58/100\n",
            "1/1 [==============================] - 0s 6ms/step - loss: 6.0134\n",
            "Epoch 59/100\n",
            "1/1 [==============================] - 0s 7ms/step - loss: 5.9075\n",
            "Epoch 60/100\n",
            "1/1 [==============================] - 0s 5ms/step - loss: 5.8026\n",
            "Epoch 61/100\n",
            "1/1 [==============================] - 0s 5ms/step - loss: 5.6986\n",
            "Epoch 62/100\n",
            "1/1 [==============================] - 0s 9ms/step - loss: 5.5957\n",
            "Epoch 63/100\n",
            "1/1 [==============================] - 0s 12ms/step - loss: 5.4939\n",
            "Epoch 64/100\n",
            "1/1 [==============================] - 0s 8ms/step - loss: 5.3930\n",
            "Epoch 65/100\n",
            "1/1 [==============================] - 0s 9ms/step - loss: 5.2931\n",
            "Epoch 66/100\n",
            "1/1 [==============================] - 0s 6ms/step - loss: 5.1943\n",
            "Epoch 67/100\n",
            "1/1 [==============================] - 0s 5ms/step - loss: 5.0964\n",
            "Epoch 68/100\n",
            "1/1 [==============================] - 0s 5ms/step - loss: 4.9996\n",
            "Epoch 69/100\n",
            "1/1 [==============================] - 0s 5ms/step - loss: 4.9038\n",
            "Epoch 70/100\n",
            "1/1 [==============================] - 0s 10ms/step - loss: 4.8089\n",
            "Epoch 71/100\n",
            "1/1 [==============================] - 0s 5ms/step - loss: 4.7151\n",
            "Epoch 72/100\n",
            "1/1 [==============================] - 0s 5ms/step - loss: 4.6223\n",
            "Epoch 73/100\n",
            "1/1 [==============================] - 0s 6ms/step - loss: 4.5305\n",
            "Epoch 74/100\n",
            "1/1 [==============================] - 0s 5ms/step - loss: 4.4397\n",
            "Epoch 75/100\n",
            "1/1 [==============================] - 0s 9ms/step - loss: 4.3499\n",
            "Epoch 76/100\n",
            "1/1 [==============================] - 0s 5ms/step - loss: 4.2611\n",
            "Epoch 77/100\n",
            "1/1 [==============================] - 0s 5ms/step - loss: 4.1733\n",
            "Epoch 78/100\n",
            "1/1 [==============================] - 0s 5ms/step - loss: 4.0865\n",
            "Epoch 79/100\n",
            "1/1 [==============================] - 0s 6ms/step - loss: 4.0007\n",
            "Epoch 80/100\n",
            "1/1 [==============================] - 0s 5ms/step - loss: 3.9159\n",
            "Epoch 81/100\n",
            "1/1 [==============================] - 0s 5ms/step - loss: 3.8321\n",
            "Epoch 82/100\n",
            "1/1 [==============================] - 0s 7ms/step - loss: 3.7493\n",
            "Epoch 83/100\n",
            "1/1 [==============================] - 0s 8ms/step - loss: 3.6674\n",
            "Epoch 84/100\n",
            "1/1 [==============================] - 0s 5ms/step - loss: 3.5866\n",
            "Epoch 85/100\n",
            "1/1 [==============================] - 0s 5ms/step - loss: 3.5068\n",
            "Epoch 86/100\n",
            "1/1 [==============================] - 0s 7ms/step - loss: 3.4279\n",
            "Epoch 87/100\n",
            "1/1 [==============================] - 0s 5ms/step - loss: 3.3500\n",
            "Epoch 88/100\n",
            "1/1 [==============================] - 0s 8ms/step - loss: 3.2731\n",
            "Epoch 89/100\n",
            "1/1 [==============================] - 0s 69ms/step - loss: 3.1972\n",
            "Epoch 90/100\n",
            "1/1 [==============================] - 0s 14ms/step - loss: 3.1223\n",
            "Epoch 91/100\n",
            "1/1 [==============================] - 0s 6ms/step - loss: 3.0484\n",
            "Epoch 92/100\n",
            "1/1 [==============================] - 0s 10ms/step - loss: 2.9754\n",
            "Epoch 93/100\n",
            "1/1 [==============================] - 0s 9ms/step - loss: 2.9035\n",
            "Epoch 94/100\n",
            "1/1 [==============================] - 0s 7ms/step - loss: 2.8324\n",
            "Epoch 95/100\n",
            "1/1 [==============================] - 0s 8ms/step - loss: 2.7624\n",
            "Epoch 96/100\n",
            "1/1 [==============================] - 0s 10ms/step - loss: 2.6934\n",
            "Epoch 97/100\n",
            "1/1 [==============================] - 0s 8ms/step - loss: 2.6253\n",
            "Epoch 98/100\n",
            "1/1 [==============================] - 0s 5ms/step - loss: 2.5582\n",
            "Epoch 99/100\n",
            "1/1 [==============================] - 0s 5ms/step - loss: 2.4921\n",
            "Epoch 100/100\n",
            "1/1 [==============================] - 0s 7ms/step - loss: 2.4269\n"
          ]
        },
        {
          "output_type": "execute_result",
          "data": {
            "text/plain": [
              "<keras.callbacks.History at 0x7b807ff4aad0>"
            ]
          },
          "metadata": {},
          "execution_count": 22
        }
      ]
    },
    {
      "cell_type": "code",
      "source": [
        "model.predict([[15]])"
      ],
      "metadata": {
        "colab": {
          "base_uri": "https://localhost:8080/"
        },
        "id": "omQQQIIFsvVK",
        "outputId": "d0db8fc1-b37d-446c-fe88-e00b4d93e077"
      },
      "execution_count": 23,
      "outputs": [
        {
          "output_type": "stream",
          "name": "stdout",
          "text": [
            "1/1 [==============================] - 0s 498ms/step\n"
          ]
        },
        {
          "output_type": "execute_result",
          "data": {
            "text/plain": [
              "array([[29.65017]], dtype=float32)"
            ]
          },
          "metadata": {},
          "execution_count": 23
        }
      ]
    },
    {
      "cell_type": "code",
      "source": [
        "파일경로 = '/content/boston.csv'\n",
        "보스턴 = pd.read_csv(파일경로)\n",
        "print(보스턴.columns)\n",
        "보스턴.head"
      ],
      "metadata": {
        "colab": {
          "base_uri": "https://localhost:8080/"
        },
        "id": "vY8ceiQxBmLi",
        "outputId": "955e6381-1d9e-4c18-ef1f-a6d752c53abc"
      },
      "execution_count": 26,
      "outputs": [
        {
          "output_type": "stream",
          "name": "stdout",
          "text": [
            "Index(['crim', 'zn', 'indus', 'chas', 'nox', 'rm', 'age', 'dis', 'rad', 'tax',\n",
            "       'ptratio', 'b', 'lstat', 'medv'],\n",
            "      dtype='object')\n"
          ]
        },
        {
          "output_type": "execute_result",
          "data": {
            "text/plain": [
              "<bound method NDFrame.head of         crim    zn  indus  chas    nox     rm   age     dis  rad  tax  \\\n",
              "0    0.00632  18.0   2.31     0  0.538  6.575  65.2  4.0900    1  296   \n",
              "1    0.02731   0.0   7.07     0  0.469  6.421  78.9  4.9671    2  242   \n",
              "2    0.02729   0.0   7.07     0  0.469  7.185  61.1  4.9671    2  242   \n",
              "3    0.03237   0.0   2.18     0  0.458  6.998  45.8  6.0622    3  222   \n",
              "4    0.06905   0.0   2.18     0  0.458  7.147  54.2  6.0622    3  222   \n",
              "..       ...   ...    ...   ...    ...    ...   ...     ...  ...  ...   \n",
              "501  0.06263   0.0  11.93     0  0.573  6.593  69.1  2.4786    1  273   \n",
              "502  0.04527   0.0  11.93     0  0.573  6.120  76.7  2.2875    1  273   \n",
              "503  0.06076   0.0  11.93     0  0.573  6.976  91.0  2.1675    1  273   \n",
              "504  0.10959   0.0  11.93     0  0.573  6.794  89.3  2.3889    1  273   \n",
              "505  0.04741   0.0  11.93     0  0.573  6.030  80.8  2.5050    1  273   \n",
              "\n",
              "     ptratio       b  lstat  medv  \n",
              "0       15.3  396.90   4.98  24.0  \n",
              "1       17.8  396.90   9.14  21.6  \n",
              "2       17.8  392.83   4.03  34.7  \n",
              "3       18.7  394.63   2.94  33.4  \n",
              "4       18.7  396.90   5.33  36.2  \n",
              "..       ...     ...    ...   ...  \n",
              "501     21.0  391.99   9.67  22.4  \n",
              "502     21.0  396.90   9.08  20.6  \n",
              "503     21.0  396.90   5.64  23.9  \n",
              "504     21.0  393.45   6.48  22.0  \n",
              "505     21.0  396.90   7.88  11.9  \n",
              "\n",
              "[506 rows x 14 columns]>"
            ]
          },
          "metadata": {},
          "execution_count": 26
        }
      ]
    },
    {
      "cell_type": "code",
      "source": [
        "독립 = 보스턴[['crim', 'zn', 'indus', 'chas', 'nox', 'rm', 'age', 'dis', 'rad', 'tax', 'ptratio', 'b', 'lstat']]\n",
        "\n",
        "종속 = 보스턴[['medv']]\n",
        "print(독립.shape, 종속.shape)"
      ],
      "metadata": {
        "colab": {
          "base_uri": "https://localhost:8080/"
        },
        "id": "_RpN5zX4BzDg",
        "outputId": "853cd1c2-a3cd-4639-c3b5-e9bae2ae36fc"
      },
      "execution_count": 27,
      "outputs": [
        {
          "output_type": "stream",
          "name": "stdout",
          "text": [
            "(506, 13) (506, 1)\n"
          ]
        }
      ]
    },
    {
      "cell_type": "code",
      "source": [
        "X = tf.keras.layers.Input(shape=[13])\n",
        "Y = tf.keras.layers.Dense(1)(X)\n",
        "model = tf.keras.models.Model(X, Y)\n",
        "model.compile(loss='mse')"
      ],
      "metadata": {
        "id": "CoU7OgRjDmFi"
      },
      "execution_count": 29,
      "outputs": []
    },
    {
      "cell_type": "code",
      "source": [
        "model.fit(독립, 종속, epochs=1000, verbose=0)"
      ],
      "metadata": {
        "colab": {
          "base_uri": "https://localhost:8080/"
        },
        "id": "bhrVFQ_gD1jz",
        "outputId": "0efb71b3-3d5d-4d25-b30c-3d6e76f65817"
      },
      "execution_count": 32,
      "outputs": [
        {
          "output_type": "execute_result",
          "data": {
            "text/plain": [
              "<keras.callbacks.History at 0x7b80801bff70>"
            ]
          },
          "metadata": {},
          "execution_count": 32
        }
      ]
    },
    {
      "cell_type": "code",
      "source": [
        "model.fit(독립, 종속, epochs=10)"
      ],
      "metadata": {
        "colab": {
          "base_uri": "https://localhost:8080/"
        },
        "id": "IcCJXrwfEHoc",
        "outputId": "7b7c2cce-46da-41d4-c89e-b0b1672b3360"
      },
      "execution_count": 34,
      "outputs": [
        {
          "output_type": "stream",
          "name": "stdout",
          "text": [
            "Epoch 1/10\n",
            "16/16 [==============================] - 0s 2ms/step - loss: 24.2251\n",
            "Epoch 2/10\n",
            "16/16 [==============================] - 0s 1ms/step - loss: 24.0964\n",
            "Epoch 3/10\n",
            "16/16 [==============================] - 0s 1ms/step - loss: 23.9439\n",
            "Epoch 4/10\n",
            "16/16 [==============================] - 0s 1ms/step - loss: 24.2753\n",
            "Epoch 5/10\n",
            "16/16 [==============================] - 0s 1ms/step - loss: 24.2909\n",
            "Epoch 6/10\n",
            "16/16 [==============================] - 0s 4ms/step - loss: 24.6203\n",
            "Epoch 7/10\n",
            "16/16 [==============================] - 0s 5ms/step - loss: 25.0415\n",
            "Epoch 8/10\n",
            "16/16 [==============================] - 0s 3ms/step - loss: 24.3138\n",
            "Epoch 9/10\n",
            "16/16 [==============================] - 0s 4ms/step - loss: 24.1872\n",
            "Epoch 10/10\n",
            "16/16 [==============================] - 0s 2ms/step - loss: 24.4022\n"
          ]
        },
        {
          "output_type": "execute_result",
          "data": {
            "text/plain": [
              "<keras.callbacks.History at 0x7b807ff497e0>"
            ]
          },
          "metadata": {},
          "execution_count": 34
        }
      ]
    },
    {
      "cell_type": "code",
      "source": [
        "print(model.predict(독립[5:10]))\n",
        "print(종속[5:10])\n",
        "print(model.get_weights())"
      ],
      "metadata": {
        "colab": {
          "base_uri": "https://localhost:8080/"
        },
        "id": "gvrEpcvBEeed",
        "outputId": "a39e942a-e2e0-42d0-c7c8-3adc5f4f2001"
      },
      "execution_count": 35,
      "outputs": [
        {
          "output_type": "stream",
          "name": "stdout",
          "text": [
            "1/1 [==============================] - 0s 39ms/step\n",
            "[[24.185009]\n",
            " [20.243206]\n",
            " [17.207268]\n",
            " [ 8.981418]\n",
            " [16.637066]]\n",
            "   medv\n",
            "5  28.7\n",
            "6  22.9\n",
            "7  27.1\n",
            "8  16.5\n",
            "9  18.9\n",
            "[array([[-0.09206091],\n",
            "       [ 0.04770757],\n",
            "       [-0.03564887],\n",
            "       [ 2.7319002 ],\n",
            "       [ 0.8695051 ],\n",
            "       [ 5.287005  ],\n",
            "       [-0.01159132],\n",
            "       [-1.0054287 ],\n",
            "       [ 0.18303001],\n",
            "       [-0.01202616],\n",
            "       [-0.42559066],\n",
            "       [ 0.01138276],\n",
            "       [-0.4698533 ]], dtype=float32), array([4.6883383], dtype=float32)]\n"
          ]
        }
      ]
    }
  ]
}